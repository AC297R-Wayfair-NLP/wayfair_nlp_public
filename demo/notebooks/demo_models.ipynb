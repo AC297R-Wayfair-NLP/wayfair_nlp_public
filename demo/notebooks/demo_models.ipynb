{
 "cells": [
  {
   "cell_type": "code",
   "execution_count": 1,
   "metadata": {},
   "outputs": [],
   "source": [
    "# Configure environment\n",
    "from os import path\n",
    "CURR_PATH = path.abspath(\"__file__\") # Full path to current script\n",
    "ROOT_PATH = path.dirname(path.dirname(path.dirname(CURR_PATH)))\n",
    "import sys; sys.path.insert(0, ROOT_PATH)"
   ]
  },
  {
   "cell_type": "markdown",
   "metadata": {},
   "source": [
    "# Models to predict return rates and outliers\n",
    "This notebook walks through our models applied to a toy example dataset. These models predict future return rates and classify products likely to have outlier return rates in the future. It also walks through some of our analyses on whether NLP signals really add value."
   ]
  },
  {
   "cell_type": "code",
   "execution_count": 2,
   "metadata": {},
   "outputs": [
    {
     "name": "stderr",
     "output_type": "stream",
     "text": [
      "[nltk_data] Downloading package vader_lexicon to\n",
      "[nltk_data]     /Users/alex/nltk_data...\n",
      "[nltk_data]   Package vader_lexicon is already up-to-date!\n"
     ]
    }
   ],
   "source": [
    "import matplotlib.pyplot as plt\n",
    "import numpy as np\n",
    "import pandas as pd\n",
    "\n",
    "from src.models import NN_Regressor, RF_Regressor, RF_Classifier\n",
    "from src.models.metrics import asymmetric_mse, bootstrap\n",
    "\n",
    "from src.features import Sentiment"
   ]
  },
  {
   "cell_type": "code",
   "execution_count": 3,
   "metadata": {},
   "outputs": [
    {
     "data": {
      "text/html": [
       "<div>\n",
       "<style scoped>\n",
       "    .dataframe tbody tr th:only-of-type {\n",
       "        vertical-align: middle;\n",
       "    }\n",
       "\n",
       "    .dataframe tbody tr th {\n",
       "        vertical-align: top;\n",
       "    }\n",
       "\n",
       "    .dataframe thead th {\n",
       "        text-align: right;\n",
       "    }\n",
       "</style>\n",
       "<table border=\"1\" class=\"dataframe\">\n",
       "  <thead>\n",
       "    <tr style=\"text-align: right;\">\n",
       "      <th></th>\n",
       "      <th>wfsku</th>\n",
       "      <th>mkcname</th>\n",
       "      <th>avgweight</th>\n",
       "      <th>returnratescaled</th>\n",
       "      <th>year</th>\n",
       "    </tr>\n",
       "  </thead>\n",
       "  <tbody>\n",
       "    <tr>\n",
       "      <th>0</th>\n",
       "      <td>A</td>\n",
       "      <td>Bath</td>\n",
       "      <td>29.071028</td>\n",
       "      <td>0.443155</td>\n",
       "      <td>2017</td>\n",
       "    </tr>\n",
       "    <tr>\n",
       "      <th>1</th>\n",
       "      <td>B</td>\n",
       "      <td>Bath</td>\n",
       "      <td>32.733974</td>\n",
       "      <td>0.326510</td>\n",
       "      <td>2017</td>\n",
       "    </tr>\n",
       "    <tr>\n",
       "      <th>2</th>\n",
       "      <td>C</td>\n",
       "      <td>Bedroom</td>\n",
       "      <td>26.795903</td>\n",
       "      <td>0.703419</td>\n",
       "      <td>2017</td>\n",
       "    </tr>\n",
       "    <tr>\n",
       "      <th>3</th>\n",
       "      <td>D</td>\n",
       "      <td>Bedroom</td>\n",
       "      <td>37.564827</td>\n",
       "      <td>0.013095</td>\n",
       "      <td>2017</td>\n",
       "    </tr>\n",
       "    <tr>\n",
       "      <th>4</th>\n",
       "      <td>E</td>\n",
       "      <td>Lighting</td>\n",
       "      <td>29.051481</td>\n",
       "      <td>0.050202</td>\n",
       "      <td>2017</td>\n",
       "    </tr>\n",
       "  </tbody>\n",
       "</table>\n",
       "</div>"
      ],
      "text/plain": [
       "  wfsku   mkcname  avgweight  returnratescaled  year\n",
       "0     A      Bath  29.071028          0.443155  2017\n",
       "1     B      Bath  32.733974          0.326510  2017\n",
       "2     C   Bedroom  26.795903          0.703419  2017\n",
       "3     D   Bedroom  37.564827          0.013095  2017\n",
       "4     E  Lighting  29.051481          0.050202  2017"
      ]
     },
     "execution_count": 3,
     "metadata": {},
     "output_type": "execute_result"
    }
   ],
   "source": [
    "# Load data\n",
    "products_df = pd.read_csv(path.join(ROOT_PATH, \"demo\", \"data\", \"toydata_products.csv\"))\n",
    "reviews_df = pd.read_csv(path.join(ROOT_PATH, \"demo\", \"data\", \"toydata_reviews.csv\"))\n",
    "\n",
    "products_df.head()"
   ]
  },
  {
   "cell_type": "code",
   "execution_count": 4,
   "metadata": {},
   "outputs": [],
   "source": [
    "# one-hot encode market category name variable\n",
    "for mkcname in products_df['mkcname'].unique():\n",
    "    products_df[f'is_mkcname_{mkcname}'] = (products_df['mkcname'] == mkcname).astype(int)"
   ]
  },
  {
   "cell_type": "markdown",
   "metadata": {},
   "source": [
    "## *Extract NLP Sentiment Features*"
   ]
  },
  {
   "cell_type": "code",
   "execution_count": 5,
   "metadata": {},
   "outputs": [],
   "source": [
    "# Extract NLP Sentiment Features\n",
    "sentiment = Sentiment()\n",
    "sentiment_features = sentiment.extract(reviews_df['rvprcomments'])\n",
    "reviews_df = pd.concat([reviews_df, sentiment_features], axis=1)\n",
    "\n",
    "# Get NLP feature columns\n",
    "nlp_feature_cols = list(sentiment_features.columns)"
   ]
  },
  {
   "cell_type": "code",
   "execution_count": 6,
   "metadata": {},
   "outputs": [
    {
     "data": {
      "text/html": [
       "<div>\n",
       "<style scoped>\n",
       "    .dataframe tbody tr th:only-of-type {\n",
       "        vertical-align: middle;\n",
       "    }\n",
       "\n",
       "    .dataframe tbody tr th {\n",
       "        vertical-align: top;\n",
       "    }\n",
       "\n",
       "    .dataframe thead th {\n",
       "        text-align: right;\n",
       "    }\n",
       "</style>\n",
       "<table border=\"1\" class=\"dataframe\">\n",
       "  <thead>\n",
       "    <tr style=\"text-align: right;\">\n",
       "      <th></th>\n",
       "      <th>wfsku</th>\n",
       "      <th>mkcname</th>\n",
       "      <th>avgweight</th>\n",
       "      <th>returnratescaled</th>\n",
       "      <th>year</th>\n",
       "      <th>is_mkcname_Bath</th>\n",
       "      <th>is_mkcname_Bedroom</th>\n",
       "      <th>is_mkcname_Lighting</th>\n",
       "      <th>subjectivity</th>\n",
       "      <th>neg</th>\n",
       "      <th>neu</th>\n",
       "      <th>pos</th>\n",
       "      <th>compound</th>\n",
       "    </tr>\n",
       "  </thead>\n",
       "  <tbody>\n",
       "    <tr>\n",
       "      <th>0</th>\n",
       "      <td>A</td>\n",
       "      <td>Bath</td>\n",
       "      <td>29.071028</td>\n",
       "      <td>0.443155</td>\n",
       "      <td>2017</td>\n",
       "      <td>1</td>\n",
       "      <td>0</td>\n",
       "      <td>0</td>\n",
       "      <td>0.601183</td>\n",
       "      <td>0.039611</td>\n",
       "      <td>0.660944</td>\n",
       "      <td>0.299463</td>\n",
       "      <td>0.486083</td>\n",
       "    </tr>\n",
       "    <tr>\n",
       "      <th>10</th>\n",
       "      <td>A</td>\n",
       "      <td>Bath</td>\n",
       "      <td>28.867765</td>\n",
       "      <td>0.436672</td>\n",
       "      <td>2018</td>\n",
       "      <td>1</td>\n",
       "      <td>0</td>\n",
       "      <td>0</td>\n",
       "      <td>0.605222</td>\n",
       "      <td>0.030174</td>\n",
       "      <td>0.678739</td>\n",
       "      <td>0.291130</td>\n",
       "      <td>0.412261</td>\n",
       "    </tr>\n",
       "    <tr>\n",
       "      <th>20</th>\n",
       "      <td>A</td>\n",
       "      <td>Bath</td>\n",
       "      <td>29.267241</td>\n",
       "      <td>0.408752</td>\n",
       "      <td>2019</td>\n",
       "      <td>1</td>\n",
       "      <td>0</td>\n",
       "      <td>0</td>\n",
       "      <td>NaN</td>\n",
       "      <td>NaN</td>\n",
       "      <td>NaN</td>\n",
       "      <td>NaN</td>\n",
       "      <td>NaN</td>\n",
       "    </tr>\n",
       "    <tr>\n",
       "      <th>1</th>\n",
       "      <td>B</td>\n",
       "      <td>Bath</td>\n",
       "      <td>32.733974</td>\n",
       "      <td>0.326510</td>\n",
       "      <td>2017</td>\n",
       "      <td>1</td>\n",
       "      <td>0</td>\n",
       "      <td>0</td>\n",
       "      <td>0.672526</td>\n",
       "      <td>0.044696</td>\n",
       "      <td>0.585321</td>\n",
       "      <td>0.369964</td>\n",
       "      <td>0.423425</td>\n",
       "    </tr>\n",
       "    <tr>\n",
       "      <th>11</th>\n",
       "      <td>B</td>\n",
       "      <td>Bath</td>\n",
       "      <td>32.291611</td>\n",
       "      <td>0.431587</td>\n",
       "      <td>2018</td>\n",
       "      <td>1</td>\n",
       "      <td>0</td>\n",
       "      <td>0</td>\n",
       "      <td>0.670257</td>\n",
       "      <td>0.040455</td>\n",
       "      <td>0.615205</td>\n",
       "      <td>0.344341</td>\n",
       "      <td>0.468632</td>\n",
       "    </tr>\n",
       "  </tbody>\n",
       "</table>\n",
       "</div>"
      ],
      "text/plain": [
       "   wfsku mkcname  avgweight  returnratescaled  year  is_mkcname_Bath  \\\n",
       "0      A    Bath  29.071028          0.443155  2017                1   \n",
       "10     A    Bath  28.867765          0.436672  2018                1   \n",
       "20     A    Bath  29.267241          0.408752  2019                1   \n",
       "1      B    Bath  32.733974          0.326510  2017                1   \n",
       "11     B    Bath  32.291611          0.431587  2018                1   \n",
       "\n",
       "    is_mkcname_Bedroom  is_mkcname_Lighting  subjectivity       neg       neu  \\\n",
       "0                    0                    0      0.601183  0.039611  0.660944   \n",
       "10                   0                    0      0.605222  0.030174  0.678739   \n",
       "20                   0                    0           NaN       NaN       NaN   \n",
       "1                    0                    0      0.672526  0.044696  0.585321   \n",
       "11                   0                    0      0.670257  0.040455  0.615205   \n",
       "\n",
       "         pos  compound  \n",
       "0   0.299463  0.486083  \n",
       "10  0.291130  0.412261  \n",
       "20       NaN       NaN  \n",
       "1   0.369964  0.423425  \n",
       "11  0.344341  0.468632  "
      ]
     },
     "execution_count": 6,
     "metadata": {},
     "output_type": "execute_result"
    }
   ],
   "source": [
    "# Aggregate up to product level\n",
    "nlp_features_product_level = reviews_df.groupby(['wfsku', 'year'])[nlp_feature_cols].mean()\n",
    "\n",
    "# Merge NLP features into product-level data\n",
    "products_df_full = products_df.merge(nlp_features_product_level, on=['wfsku', 'year'], how='left')\n",
    "\n",
    "# View data\n",
    "products_df_full.sort_values(['wfsku', 'year']).head()"
   ]
  },
  {
   "cell_type": "markdown",
   "metadata": {},
   "source": [
    "# Regression: Predicting future return rates\n",
    "\n",
    "In the training data, we use 2017 product data to predict 2018 return rates. For test data, use 2018 product data to predict 2019 return rates."
   ]
  },
  {
   "cell_type": "code",
   "execution_count": 7,
   "metadata": {},
   "outputs": [],
   "source": [
    "prods_17 = products_df_full[products_df_full['year']==2017].reset_index(drop=True)\n",
    "prods_18 = products_df_full[products_df_full['year']==2018].reset_index(drop=True)\n",
    "prods_19 = products_df_full[products_df_full['year']==2019].reset_index(drop=True)\n",
    "\n",
    "X_train = prods_17.drop(['wfsku', 'year', 'mkcname'], axis=1)\n",
    "X_train_non_nlp = X_train.drop(nlp_feature_cols, axis=1)\n",
    "y_train = prods_18['returnratescaled']\n",
    "\n",
    "X_test = prods_18.drop(['wfsku', 'year', 'mkcname'], axis=1)\n",
    "X_test_non_nlp = X_test.drop(nlp_feature_cols, axis=1)\n",
    "y_test = prods_19['returnratescaled']"
   ]
  },
  {
   "cell_type": "markdown",
   "metadata": {},
   "source": [
    "## *Random Forest Regressor*"
   ]
  },
  {
   "cell_type": "code",
   "execution_count": 8,
   "metadata": {},
   "outputs": [],
   "source": [
    "# Set up Random Forest Regressor arguments\n",
    "rf_kwargs = dict(\n",
    "    n_estimators=100,\n",
    "    max_depth=4,\n",
    "    min_samples_leaf=3,\n",
    "    random_state=10 )\n",
    "model_full = RF_Regressor(**rf_kwargs)\n",
    "model_non_nlp = RF_Regressor(**rf_kwargs)"
   ]
  },
  {
   "cell_type": "code",
   "execution_count": 9,
   "metadata": {},
   "outputs": [
    {
     "name": "stdout",
     "output_type": "stream",
     "text": [
      "-RF Test Scores-\n",
      "Full:\t0.0335\n",
      "NonNLP:\t0.0352\n"
     ]
    }
   ],
   "source": [
    "# Train full (includes NLP signals) model\n",
    "model_full.train(X_train, y_train)\n",
    "y_pred_full = model_full.predict(X_test)\n",
    "full_score = np.round(np.sqrt(np.mean(asymmetric_mse(y_pred_full, y_test))), 4)\n",
    "print(\"-RF Test Scores-\")\n",
    "print(f\"Full:\\t{full_score}\")\n",
    "\n",
    "# Train non-NLP model\n",
    "model_non_nlp.train(X_train_non_nlp, y_train)\n",
    "y_pred_non_nlp = model_non_nlp.predict(X_test_non_nlp)\n",
    "non_nlp_score = np.round(np.sqrt(np.mean(asymmetric_mse(y_pred_non_nlp, y_test))), 4)\n",
    "print(f\"NonNLP:\\t{non_nlp_score}\")"
   ]
  },
  {
   "cell_type": "code",
   "execution_count": 10,
   "metadata": {},
   "outputs": [
    {
     "data": {
      "image/png": "[encoded data removed]",
      "text/plain": [
       "<Figure size 432x288 with 1 Axes>"
      ]
     },
     "metadata": {
      "needs_background": "light"
     },
     "output_type": "display_data"
    }
   ],
   "source": [
    "# Resample X_test to ensure the different in score is meaningful\n",
    "# Basically ensures we haven't fit to the test set\n",
    "score = lambda true, pred: np.sqrt(np.mean(asymmetric_mse(true, pred)))\n",
    "\n",
    "full_scores, non_nlp_scores = bootstrap(\n",
    "    full_model=model_full, \n",
    "    non_nlp_model=model_non_nlp, \n",
    "    X_full=X_test, \n",
    "    y=y_test, \n",
    "    score_func=score, \n",
    "    nlp_cols=nlp_feature_cols\n",
    ")\n",
    "\n",
    "plt.hist(non_nlp_scores - full_scores)\n",
    "plt.title('Bootstrap analysis of Regression')\n",
    "plt.xlabel('Δ Score: NonNLP minus Full weighted rmse')\n",
    "plt.ylabel('Count')\n",
    "plt.show()"
   ]
  },
  {
   "cell_type": "markdown",
   "metadata": {},
   "source": [
    "The NonNLP model consistently has a higher score (worse performance) than the full model, even with different samples of the test set. Thus, we are more confident that the difference between full model has meaningfully better performance.\n",
    "\n",
    "## *Neural Network Regressor*\n",
    "\n",
    "Note that the performance of the Neural network doesn't look great on this toy dataset because it's so small."
   ]
  },
  {
   "cell_type": "code",
   "execution_count": 11,
   "metadata": {},
   "outputs": [
    {
     "name": "stdout",
     "output_type": "stream",
     "text": [
      "Start training model\n",
      "Succesfully trained model, time used 1.589599370956421\n",
      "Start training model\n",
      "Succesfully trained model, time used 0.8240208625793457\n"
     ]
    }
   ],
   "source": [
    "# Set up Full and Non-NLP NNs\n",
    "nn_full = NN_Regressor()\n",
    "nn_non_nlp = NN_Regressor()\n",
    "\n",
    "# Train models and save predictions\n",
    "nn_full.train(X_train, y_train)\n",
    "y_pred_nn_full = nn_full.predict(X_test).ravel()\n",
    "\n",
    "nn_non_nlp.train(X_train_non_nlp, y_train)\n",
    "y_pred_nn_non_nlp = nn_non_nlp.predict(X_test_non_nlp).ravel()"
   ]
  },
  {
   "cell_type": "code",
   "execution_count": 12,
   "metadata": {},
   "outputs": [
    {
     "name": "stdout",
     "output_type": "stream",
     "text": [
      "-NN Test Scores-\n",
      "Full:\t0.2334\n",
      "NonNLP:\t0.305\n"
     ]
    }
   ],
   "source": [
    "full_score_nn = score(y_test, y_pred_nn_full)\n",
    "non_nlp_score_nn = score(y_test, y_pred_nn_non_nlp)\n",
    "print(\"-NN Test Scores-\")\n",
    "print(f\"Full:\\t{np.round(full_score_nn, 4)}\")\n",
    "print(f\"NonNLP:\\t{np.round(non_nlp_score_nn, 4)}\")"
   ]
  },
  {
   "cell_type": "markdown",
   "metadata": {},
   "source": [
    "# Classification: Predicting future outliers\n",
    "\n",
    "We convert this problem into a classification problem. Instead of predicting the raw return rate, we use 2017 product data to predict which products will have outlier return rates in 2018. Again, our test set is 2018 product data predicting 2019 return rate outliers.\n",
    "\n",
    "We use a threshold rule to determine whether a product is an outlier. Within each market category, the largest $N$\\% return rates are classified as outliers, while the rest are normal. These are calculated separately for each year in the data.\n",
    "\n",
    "We choose precision scores based on the business context: we'd like to avoid false positives and ensure that a positive classification is really indicative of an outlier."
   ]
  },
  {
   "cell_type": "code",
   "execution_count": 13,
   "metadata": {},
   "outputs": [],
   "source": [
    "from sklearn.metrics import precision_score"
   ]
  },
  {
   "cell_type": "markdown",
   "metadata": {},
   "source": [
    "## *Regression + Rank*\n",
    "\n",
    "This method consists of using the regression's predicted values and ranking them to determine outliers. "
   ]
  },
  {
   "cell_type": "code",
   "execution_count": 14,
   "metadata": {},
   "outputs": [],
   "source": [
    "# Get ground truth classifications from RF_Regressor class\n",
    "threshold=0.4  # high threshold because this dataset is so small\n",
    "\n",
    "y_test_cla = model_full._rates_to_outlier_bool(\n",
    "    rates=prods_19['returnratescaled'],\n",
    "    mkcnames=prods_19['mkcname'],\n",
    "    threshold=threshold\n",
    ")\n",
    "\n",
    "y_train_cla = model_full._rates_to_outlier_bool(\n",
    "    rates=prods_18['returnratescaled'],\n",
    "    mkcnames=prods_18['mkcname'],\n",
    "    threshold=threshold\n",
    ")"
   ]
  },
  {
   "cell_type": "code",
   "execution_count": 15,
   "metadata": {},
   "outputs": [],
   "source": [
    "# Rank the predicted rates (already fitted in the RF Regressor section)\n",
    "mkcnames = prods_18['mkcname']\n",
    "y_pred_full_cla = model_full.predict_outliers(X_test, mkcnames, threshold=threshold)\n",
    "y_pred_nonnlp_cla = model_non_nlp.predict_outliers(X_test_non_nlp, mkcnames, threshold=threshold)"
   ]
  },
  {
   "cell_type": "code",
   "execution_count": 16,
   "metadata": {},
   "outputs": [
    {
     "name": "stdout",
     "output_type": "stream",
     "text": [
      "-Reg+Rank Test Scores-\n",
      "Full:\t0.75\n",
      "NonNLP:\t0.75\n"
     ]
    }
   ],
   "source": [
    "# Get precision scores for models\n",
    "full_prec = precision_score(y_test_cla, y_pred_full_cla)\n",
    "non_nlp_prec = precision_score(y_test_cla, y_pred_nonnlp_cla)\n",
    "\n",
    "print(\"-Reg+Rank Test Scores-\")\n",
    "print(f\"Full:\\t{np.round(full_prec, 4)}\")\n",
    "print(f\"NonNLP:\\t{np.round(non_nlp_prec, 4)}\")"
   ]
  },
  {
   "cell_type": "markdown",
   "metadata": {},
   "source": [
    "## *Random Forest Classifier*\n",
    "Here, we directly train a random forest classifier to classify outliers without predicting the raw return rate."
   ]
  },
  {
   "cell_type": "code",
   "execution_count": 17,
   "metadata": {},
   "outputs": [],
   "source": [
    "# Set up Full and Non-NLP Classifiers\n",
    "full_rfcla = RF_Classifier(**rf_kwargs)\n",
    "nonnlp_rfcla = RF_Classifier(**rf_kwargs)\n",
    "\n",
    "# Train models and save predictions\n",
    "full_rfcla.train(X_train, y_train_cla)\n",
    "y_pred_rfcla_full = full_rfcla.predict(X_test)\n",
    "\n",
    "nonnlp_rfcla.train(X_train_non_nlp, y_train_cla)\n",
    "y_pred_rfcla_non_nlp = nonnlp_rfcla.predict(X_test_non_nlp)"
   ]
  },
  {
   "cell_type": "code",
   "execution_count": 18,
   "metadata": {},
   "outputs": [
    {
     "name": "stdout",
     "output_type": "stream",
     "text": [
      "-Reg+Rank Test Scores-\n",
      "Full:\t0.75\n",
      "NonNLP:\t0.0\n"
     ]
    },
    {
     "name": "stderr",
     "output_type": "stream",
     "text": [
      "/Users/alex/.pyenv/versions/3.8.5/lib/python3.8/site-packages/sklearn/metrics/_classification.py:1221: UndefinedMetricWarning: Precision is ill-defined and being set to 0.0 due to no predicted samples. Use `zero_division` parameter to control this behavior.\n",
      "  _warn_prf(average, modifier, msg_start, len(result))\n"
     ]
    }
   ],
   "source": [
    "# Get precision scores for models\n",
    "full_prec_rfcla = precision_score(y_test_cla, y_pred_rfcla_full)\n",
    "non_nlp_prec_rfcla = precision_score(y_test_cla, y_pred_rfcla_non_nlp)\n",
    "\n",
    "print(\"-Reg+Rank Test Scores-\")\n",
    "print(f\"Full:\\t{np.round(full_prec_rfcla, 4)}\")\n",
    "print(f\"NonNLP:\\t{np.round(non_nlp_prec_rfcla, 4)}\")"
   ]
  },
  {
   "cell_type": "markdown",
   "metadata": {},
   "source": [
    "The warning above is expected because the random forest classifier predicts no positive classes: all are predicted to be 0. The precision metric is not well-defined for zero positive classes predicted (since the denominator is 0), which is why we see this warning."
   ]
  },
  {
   "cell_type": "code",
   "execution_count": null,
   "metadata": {},
   "outputs": [],
   "source": []
  }
 ],
 "metadata": {
  "kernelspec": {
   "display_name": "wayfair-nlp",
   "language": "python",
   "name": "wayfair-nlp"
  },
  "language_info": {
   "codemirror_mode": {
    "name": "ipython",
    "version": 3
   },
   "file_extension": ".py",
   "mimetype": "text/x-python",
   "name": "python",
   "nbconvert_exporter": "python",
   "pygments_lexer": "ipython3",
   "version": "3.8.5"
  }
 },
 "nbformat": 4,
 "nbformat_minor": 4
}
